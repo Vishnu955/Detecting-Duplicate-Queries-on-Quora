{
  "cells": [
    {
      "cell_type": "code",
      "execution_count": null,
      "metadata": {
        "colab": {
          "base_uri": "https://localhost:8080/"
        },
        "id": "H-liQC0wwlaS",
        "outputId": "09a42607-7f0e-4c19-b2a5-ee558f2fa885"
      },
      "outputs": [
        {
          "output_type": "stream",
          "name": "stdout",
          "text": [
            "Mounted at /content/drive\n"
          ]
        }
      ],
      "source": [
        "from google.colab import drive\n",
        "drive.mount('/content/drive')"
      ]
    },
    {
      "cell_type": "code",
      "execution_count": null,
      "metadata": {
        "id": "txM5qhJi2IuG"
      },
      "outputs": [],
      "source": [
        "import pandas as pd\n",
        "import numpy as np\n",
        "from sklearn.model_selection import train_test_split\n",
        "import tensorflow as tf\n",
        "from collections import defaultdict\n",
        "from tensorflow.keras.preprocessing.text import Tokenizer\n",
        "from tensorflow.keras.layers import Embedding\n",
        "from tensorflow.keras.models import Model\n",
        "from tensorflow.keras.layers import Input, Embedding, LSTM, Dropout, Dense, Lambda\n",
        "from tensorflow.keras.preprocessing.sequence import pad_sequences\n"
      ]
    },
    {
      "cell_type": "code",
      "execution_count": null,
      "metadata": {
        "id": "WxjFF8an2IuH"
      },
      "outputs": [],
      "source": [
        "load_train_1=pd.read_csv('/content/drive/MyDrive/NLP_Masters/Project/quora-question-pairs 2/train.csv')"
      ]
    },
    {
      "cell_type": "code",
      "execution_count": null,
      "metadata": {
        "id": "lZX30RsNSDK1"
      },
      "outputs": [],
      "source": [
        "# Take 1% of the data from load_train_1\n",
        "load_train = load_train_1#.sample(frac=0.01)"
      ]
    },
    {
      "cell_type": "code",
      "execution_count": null,
      "metadata": {
        "colab": {
          "base_uri": "https://localhost:8080/",
          "height": 300
        },
        "id": "kYcFinnw7WHY",
        "outputId": "98feda29-fe12-4aec-dbf2-9d600f27140c"
      },
      "outputs": [
        {
          "output_type": "execute_result",
          "data": {
            "text/plain": [
              "                  id           qid1           qid2   is_duplicate\n",
              "count  404290.000000  404290.000000  404290.000000  404290.000000\n",
              "mean   202144.500000  217243.942418  220955.655337       0.369198\n",
              "std    116708.614502  157751.700002  159903.182629       0.482588\n",
              "min         0.000000       1.000000       2.000000       0.000000\n",
              "25%    101072.250000   74437.500000   74727.000000       0.000000\n",
              "50%    202144.500000  192182.000000  197052.000000       0.000000\n",
              "75%    303216.750000  346573.500000  354692.500000       1.000000\n",
              "max    404289.000000  537932.000000  537933.000000       1.000000"
            ],
            "text/html": [
              "\n",
              "  <div id=\"df-d9a5eed1-00fe-40ab-92d6-94c97fce7609\" class=\"colab-df-container\">\n",
              "    <div>\n",
              "<style scoped>\n",
              "    .dataframe tbody tr th:only-of-type {\n",
              "        vertical-align: middle;\n",
              "    }\n",
              "\n",
              "    .dataframe tbody tr th {\n",
              "        vertical-align: top;\n",
              "    }\n",
              "\n",
              "    .dataframe thead th {\n",
              "        text-align: right;\n",
              "    }\n",
              "</style>\n",
              "<table border=\"1\" class=\"dataframe\">\n",
              "  <thead>\n",
              "    <tr style=\"text-align: right;\">\n",
              "      <th></th>\n",
              "      <th>id</th>\n",
              "      <th>qid1</th>\n",
              "      <th>qid2</th>\n",
              "      <th>is_duplicate</th>\n",
              "    </tr>\n",
              "  </thead>\n",
              "  <tbody>\n",
              "    <tr>\n",
              "      <th>count</th>\n",
              "      <td>404290.000000</td>\n",
              "      <td>404290.000000</td>\n",
              "      <td>404290.000000</td>\n",
              "      <td>404290.000000</td>\n",
              "    </tr>\n",
              "    <tr>\n",
              "      <th>mean</th>\n",
              "      <td>202144.500000</td>\n",
              "      <td>217243.942418</td>\n",
              "      <td>220955.655337</td>\n",
              "      <td>0.369198</td>\n",
              "    </tr>\n",
              "    <tr>\n",
              "      <th>std</th>\n",
              "      <td>116708.614502</td>\n",
              "      <td>157751.700002</td>\n",
              "      <td>159903.182629</td>\n",
              "      <td>0.482588</td>\n",
              "    </tr>\n",
              "    <tr>\n",
              "      <th>min</th>\n",
              "      <td>0.000000</td>\n",
              "      <td>1.000000</td>\n",
              "      <td>2.000000</td>\n",
              "      <td>0.000000</td>\n",
              "    </tr>\n",
              "    <tr>\n",
              "      <th>25%</th>\n",
              "      <td>101072.250000</td>\n",
              "      <td>74437.500000</td>\n",
              "      <td>74727.000000</td>\n",
              "      <td>0.000000</td>\n",
              "    </tr>\n",
              "    <tr>\n",
              "      <th>50%</th>\n",
              "      <td>202144.500000</td>\n",
              "      <td>192182.000000</td>\n",
              "      <td>197052.000000</td>\n",
              "      <td>0.000000</td>\n",
              "    </tr>\n",
              "    <tr>\n",
              "      <th>75%</th>\n",
              "      <td>303216.750000</td>\n",
              "      <td>346573.500000</td>\n",
              "      <td>354692.500000</td>\n",
              "      <td>1.000000</td>\n",
              "    </tr>\n",
              "    <tr>\n",
              "      <th>max</th>\n",
              "      <td>404289.000000</td>\n",
              "      <td>537932.000000</td>\n",
              "      <td>537933.000000</td>\n",
              "      <td>1.000000</td>\n",
              "    </tr>\n",
              "  </tbody>\n",
              "</table>\n",
              "</div>\n",
              "    <div class=\"colab-df-buttons\">\n",
              "\n",
              "  <div class=\"colab-df-container\">\n",
              "    <button class=\"colab-df-convert\" onclick=\"convertToInteractive('df-d9a5eed1-00fe-40ab-92d6-94c97fce7609')\"\n",
              "            title=\"Convert this dataframe to an interactive table.\"\n",
              "            style=\"display:none;\">\n",
              "\n",
              "  <svg xmlns=\"http://www.w3.org/2000/svg\" height=\"24px\" viewBox=\"0 -960 960 960\">\n",
              "    <path d=\"M120-120v-720h720v720H120Zm60-500h600v-160H180v160Zm220 220h160v-160H400v160Zm0 220h160v-160H400v160ZM180-400h160v-160H180v160Zm440 0h160v-160H620v160ZM180-180h160v-160H180v160Zm440 0h160v-160H620v160Z\"/>\n",
              "  </svg>\n",
              "    </button>\n",
              "\n",
              "  <style>\n",
              "    .colab-df-container {\n",
              "      display:flex;\n",
              "      gap: 12px;\n",
              "    }\n",
              "\n",
              "    .colab-df-convert {\n",
              "      background-color: #E8F0FE;\n",
              "      border: none;\n",
              "      border-radius: 50%;\n",
              "      cursor: pointer;\n",
              "      display: none;\n",
              "      fill: #1967D2;\n",
              "      height: 32px;\n",
              "      padding: 0 0 0 0;\n",
              "      width: 32px;\n",
              "    }\n",
              "\n",
              "    .colab-df-convert:hover {\n",
              "      background-color: #E2EBFA;\n",
              "      box-shadow: 0px 1px 2px rgba(60, 64, 67, 0.3), 0px 1px 3px 1px rgba(60, 64, 67, 0.15);\n",
              "      fill: #174EA6;\n",
              "    }\n",
              "\n",
              "    .colab-df-buttons div {\n",
              "      margin-bottom: 4px;\n",
              "    }\n",
              "\n",
              "    [theme=dark] .colab-df-convert {\n",
              "      background-color: #3B4455;\n",
              "      fill: #D2E3FC;\n",
              "    }\n",
              "\n",
              "    [theme=dark] .colab-df-convert:hover {\n",
              "      background-color: #434B5C;\n",
              "      box-shadow: 0px 1px 3px 1px rgba(0, 0, 0, 0.15);\n",
              "      filter: drop-shadow(0px 1px 2px rgba(0, 0, 0, 0.3));\n",
              "      fill: #FFFFFF;\n",
              "    }\n",
              "  </style>\n",
              "\n",
              "    <script>\n",
              "      const buttonEl =\n",
              "        document.querySelector('#df-d9a5eed1-00fe-40ab-92d6-94c97fce7609 button.colab-df-convert');\n",
              "      buttonEl.style.display =\n",
              "        google.colab.kernel.accessAllowed ? 'block' : 'none';\n",
              "\n",
              "      async function convertToInteractive(key) {\n",
              "        const element = document.querySelector('#df-d9a5eed1-00fe-40ab-92d6-94c97fce7609');\n",
              "        const dataTable =\n",
              "          await google.colab.kernel.invokeFunction('convertToInteractive',\n",
              "                                                    [key], {});\n",
              "        if (!dataTable) return;\n",
              "\n",
              "        const docLinkHtml = 'Like what you see? Visit the ' +\n",
              "          '<a target=\"_blank\" href=https://colab.research.google.com/notebooks/data_table.ipynb>data table notebook</a>'\n",
              "          + ' to learn more about interactive tables.';\n",
              "        element.innerHTML = '';\n",
              "        dataTable['output_type'] = 'display_data';\n",
              "        await google.colab.output.renderOutput(dataTable, element);\n",
              "        const docLink = document.createElement('div');\n",
              "        docLink.innerHTML = docLinkHtml;\n",
              "        element.appendChild(docLink);\n",
              "      }\n",
              "    </script>\n",
              "  </div>\n",
              "\n",
              "\n",
              "<div id=\"df-46fef756-6f85-4da1-ad97-d69d82946089\">\n",
              "  <button class=\"colab-df-quickchart\" onclick=\"quickchart('df-46fef756-6f85-4da1-ad97-d69d82946089')\"\n",
              "            title=\"Suggest charts\"\n",
              "            style=\"display:none;\">\n",
              "\n",
              "<svg xmlns=\"http://www.w3.org/2000/svg\" height=\"24px\"viewBox=\"0 0 24 24\"\n",
              "     width=\"24px\">\n",
              "    <g>\n",
              "        <path d=\"M19 3H5c-1.1 0-2 .9-2 2v14c0 1.1.9 2 2 2h14c1.1 0 2-.9 2-2V5c0-1.1-.9-2-2-2zM9 17H7v-7h2v7zm4 0h-2V7h2v10zm4 0h-2v-4h2v4z\"/>\n",
              "    </g>\n",
              "</svg>\n",
              "  </button>\n",
              "\n",
              "<style>\n",
              "  .colab-df-quickchart {\n",
              "      --bg-color: #E8F0FE;\n",
              "      --fill-color: #1967D2;\n",
              "      --hover-bg-color: #E2EBFA;\n",
              "      --hover-fill-color: #174EA6;\n",
              "      --disabled-fill-color: #AAA;\n",
              "      --disabled-bg-color: #DDD;\n",
              "  }\n",
              "\n",
              "  [theme=dark] .colab-df-quickchart {\n",
              "      --bg-color: #3B4455;\n",
              "      --fill-color: #D2E3FC;\n",
              "      --hover-bg-color: #434B5C;\n",
              "      --hover-fill-color: #FFFFFF;\n",
              "      --disabled-bg-color: #3B4455;\n",
              "      --disabled-fill-color: #666;\n",
              "  }\n",
              "\n",
              "  .colab-df-quickchart {\n",
              "    background-color: var(--bg-color);\n",
              "    border: none;\n",
              "    border-radius: 50%;\n",
              "    cursor: pointer;\n",
              "    display: none;\n",
              "    fill: var(--fill-color);\n",
              "    height: 32px;\n",
              "    padding: 0;\n",
              "    width: 32px;\n",
              "  }\n",
              "\n",
              "  .colab-df-quickchart:hover {\n",
              "    background-color: var(--hover-bg-color);\n",
              "    box-shadow: 0 1px 2px rgba(60, 64, 67, 0.3), 0 1px 3px 1px rgba(60, 64, 67, 0.15);\n",
              "    fill: var(--button-hover-fill-color);\n",
              "  }\n",
              "\n",
              "  .colab-df-quickchart-complete:disabled,\n",
              "  .colab-df-quickchart-complete:disabled:hover {\n",
              "    background-color: var(--disabled-bg-color);\n",
              "    fill: var(--disabled-fill-color);\n",
              "    box-shadow: none;\n",
              "  }\n",
              "\n",
              "  .colab-df-spinner {\n",
              "    border: 2px solid var(--fill-color);\n",
              "    border-color: transparent;\n",
              "    border-bottom-color: var(--fill-color);\n",
              "    animation:\n",
              "      spin 1s steps(1) infinite;\n",
              "  }\n",
              "\n",
              "  @keyframes spin {\n",
              "    0% {\n",
              "      border-color: transparent;\n",
              "      border-bottom-color: var(--fill-color);\n",
              "      border-left-color: var(--fill-color);\n",
              "    }\n",
              "    20% {\n",
              "      border-color: transparent;\n",
              "      border-left-color: var(--fill-color);\n",
              "      border-top-color: var(--fill-color);\n",
              "    }\n",
              "    30% {\n",
              "      border-color: transparent;\n",
              "      border-left-color: var(--fill-color);\n",
              "      border-top-color: var(--fill-color);\n",
              "      border-right-color: var(--fill-color);\n",
              "    }\n",
              "    40% {\n",
              "      border-color: transparent;\n",
              "      border-right-color: var(--fill-color);\n",
              "      border-top-color: var(--fill-color);\n",
              "    }\n",
              "    60% {\n",
              "      border-color: transparent;\n",
              "      border-right-color: var(--fill-color);\n",
              "    }\n",
              "    80% {\n",
              "      border-color: transparent;\n",
              "      border-right-color: var(--fill-color);\n",
              "      border-bottom-color: var(--fill-color);\n",
              "    }\n",
              "    90% {\n",
              "      border-color: transparent;\n",
              "      border-bottom-color: var(--fill-color);\n",
              "    }\n",
              "  }\n",
              "</style>\n",
              "\n",
              "  <script>\n",
              "    async function quickchart(key) {\n",
              "      const quickchartButtonEl =\n",
              "        document.querySelector('#' + key + ' button');\n",
              "      quickchartButtonEl.disabled = true;  // To prevent multiple clicks.\n",
              "      quickchartButtonEl.classList.add('colab-df-spinner');\n",
              "      try {\n",
              "        const charts = await google.colab.kernel.invokeFunction(\n",
              "            'suggestCharts', [key], {});\n",
              "      } catch (error) {\n",
              "        console.error('Error during call to suggestCharts:', error);\n",
              "      }\n",
              "      quickchartButtonEl.classList.remove('colab-df-spinner');\n",
              "      quickchartButtonEl.classList.add('colab-df-quickchart-complete');\n",
              "    }\n",
              "    (() => {\n",
              "      let quickchartButtonEl =\n",
              "        document.querySelector('#df-46fef756-6f85-4da1-ad97-d69d82946089 button');\n",
              "      quickchartButtonEl.style.display =\n",
              "        google.colab.kernel.accessAllowed ? 'block' : 'none';\n",
              "    })();\n",
              "  </script>\n",
              "</div>\n",
              "\n",
              "    </div>\n",
              "  </div>\n"
            ],
            "application/vnd.google.colaboratory.intrinsic+json": {
              "type": "dataframe",
              "summary": "{\n  \"name\": \"load_train\",\n  \"rows\": 8,\n  \"fields\": [\n    {\n      \"column\": \"id\",\n      \"properties\": {\n        \"dtype\": \"number\",\n        \"std\": 145707.8530764589,\n        \"min\": 0.0,\n        \"max\": 404290.0,\n        \"num_unique_values\": 7,\n        \"samples\": [\n          404290.0,\n          202144.5,\n          303216.75\n        ],\n        \"semantic_type\": \"\",\n        \"description\": \"\"\n      }\n    },\n    {\n      \"column\": \"qid1\",\n      \"properties\": {\n        \"dtype\": \"number\",\n        \"std\": 177956.12817271316,\n        \"min\": 1.0,\n        \"max\": 537932.0,\n        \"num_unique_values\": 8,\n        \"samples\": [\n          217243.94241757155,\n          192182.0,\n          404290.0\n        ],\n        \"semantic_type\": \"\",\n        \"description\": \"\"\n      }\n    },\n    {\n      \"column\": \"qid2\",\n      \"properties\": {\n        \"dtype\": \"number\",\n        \"std\": 178220.3206502196,\n        \"min\": 2.0,\n        \"max\": 537933.0,\n        \"num_unique_values\": 8,\n        \"samples\": [\n          220955.65533651586,\n          197052.0,\n          404290.0\n        ],\n        \"semantic_type\": \"\",\n        \"description\": \"\"\n      }\n    },\n    {\n      \"column\": \"is_duplicate\",\n      \"properties\": {\n        \"dtype\": \"number\",\n        \"std\": 142937.9562466109,\n        \"min\": 0.0,\n        \"max\": 404290.0,\n        \"num_unique_values\": 5,\n        \"samples\": [\n          0.369197853026293,\n          1.0,\n          0.48258820374914346\n        ],\n        \"semantic_type\": \"\",\n        \"description\": \"\"\n      }\n    }\n  ]\n}"
            }
          },
          "metadata": {},
          "execution_count": 5
        }
      ],
      "source": [
        "load_train.describe()"
      ]
    },
    {
      "cell_type": "code",
      "execution_count": null,
      "metadata": {
        "colab": {
          "base_uri": "https://localhost:8080/"
        },
        "id": "BpTzDH_Z7fci",
        "outputId": "fb45cc74-e685-4983-d8d1-a2a4af13003b"
      },
      "outputs": [
        {
          "output_type": "stream",
          "name": "stdout",
          "text": [
            "id              0\n",
            "qid1            0\n",
            "qid2            0\n",
            "question1       1\n",
            "question2       2\n",
            "is_duplicate    0\n",
            "dtype: int64\n"
          ]
        }
      ],
      "source": [
        "print(load_train.isna().sum())"
      ]
    },
    {
      "cell_type": "code",
      "execution_count": null,
      "metadata": {
        "colab": {
          "base_uri": "https://localhost:8080/"
        },
        "id": "hGlvNZcV7jci",
        "outputId": "9d8cfe53-e2a6-4f46-abff-1b3f12c3b4f1"
      },
      "outputs": [
        {
          "output_type": "execute_result",
          "data": {
            "text/plain": [
              "(404287, 6)"
            ]
          },
          "metadata": {},
          "execution_count": 7
        }
      ],
      "source": [
        "# dropping the missing values\n",
        "load_train = load_train.dropna()\n",
        "load_train.shape"
      ]
    },
    {
      "cell_type": "code",
      "execution_count": null,
      "metadata": {
        "id": "tJUDPej5V5iV"
      },
      "outputs": [],
      "source": [
        "train_data, test_data = train_test_split(load_train, test_size=0.20,  random_state=203, stratify=load_train['is_duplicate'])"
      ]
    },
    {
      "cell_type": "code",
      "execution_count": null,
      "metadata": {
        "id": "JUfnpYI378oN"
      },
      "outputs": [],
      "source": []
    },
    {
      "cell_type": "code",
      "execution_count": null,
      "metadata": {
        "colab": {
          "base_uri": "https://localhost:8080/"
        },
        "id": "trOL_KJG7xEJ",
        "outputId": "9bb8ba6e-4a93-46e8-d8d0-49080c642f9c"
      },
      "outputs": [
        {
          "output_type": "execute_result",
          "data": {
            "text/plain": [
              "(323429, 6)"
            ]
          },
          "metadata": {},
          "execution_count": 9
        }
      ],
      "source": [
        "train_data.shape"
      ]
    },
    {
      "cell_type": "code",
      "execution_count": null,
      "metadata": {
        "colab": {
          "base_uri": "https://localhost:8080/"
        },
        "id": "fks8-XP575Ag",
        "outputId": "40f5c85c-77a5-4c85-c81d-40905387d31e"
      },
      "outputs": [
        {
          "output_type": "execute_result",
          "data": {
            "text/plain": [
              "(80858, 6)"
            ]
          },
          "metadata": {},
          "execution_count": 10
        }
      ],
      "source": [
        "test_data.shape"
      ]
    },
    {
      "cell_type": "code",
      "source": [
        "tp1=minority_class_train = train_data[train_data['is_duplicate'] == 1]\n",
        "tp1.shape"
      ],
      "metadata": {
        "colab": {
          "base_uri": "https://localhost:8080/"
        },
        "id": "HGkhTet2_2Vx",
        "outputId": "fd71e1f3-8c7f-4f57-8207-555d3b38bc82"
      },
      "execution_count": null,
      "outputs": [
        {
          "output_type": "execute_result",
          "data": {
            "text/plain": [
              "(119410, 6)"
            ]
          },
          "metadata": {},
          "execution_count": 11
        }
      ]
    },
    {
      "cell_type": "code",
      "source": [
        "tp2=minority_class_train = train_data[train_data['is_duplicate'] == 0]\n",
        "tp2.shape"
      ],
      "metadata": {
        "colab": {
          "base_uri": "https://localhost:8080/"
        },
        "id": "nAxrBWqq_08J",
        "outputId": "4bf70c9f-96ad-46c1-d6f2-b6c849ea347c"
      },
      "execution_count": null,
      "outputs": [
        {
          "output_type": "execute_result",
          "data": {
            "text/plain": [
              "(204019, 6)"
            ]
          },
          "metadata": {},
          "execution_count": 12
        }
      ]
    },
    {
      "cell_type": "markdown",
      "metadata": {
        "id": "PgIIv9pVc-yz"
      },
      "source": [
        "We are splitting train.csv file into 70/30 test train no validation."
      ]
    },
    {
      "cell_type": "code",
      "execution_count": null,
      "metadata": {
        "colab": {
          "base_uri": "https://localhost:8080/"
        },
        "id": "IimEHTbHwuRN",
        "outputId": "28010ded-de88-4d73-fa8a-0ba86e05d7e4"
      },
      "outputs": [
        {
          "output_type": "stream",
          "name": "stdout",
          "text": [
            "is_duplicate\n",
            "0    204019\n",
            "1    204019\n",
            "Name: count, dtype: int64\n"
          ]
        }
      ],
      "source": [
        "from sklearn.utils import resample\n",
        "\n",
        "majority_class_train = train_data[train_data['is_duplicate'] == train_data['is_duplicate'].mode()[0]]\n",
        "minority_class_train = train_data[train_data['is_duplicate'] != train_data['is_duplicate'].mode()[0]]\n",
        "\n",
        "minority_class_train_upsampled = resample(minority_class_train,\n",
        "                                          replace=True,\n",
        "                                          n_samples=len(majority_class_train),\n",
        "                                          random_state=42)\n",
        "\n",
        "# Combine the balanced classes back\n",
        "train_data = pd.concat([majority_class_train, minority_class_train_upsampled])\n",
        "\n",
        "# Check new class distribution after balancing\n",
        "print(train_data['is_duplicate'].value_counts())"
      ]
    },
    {
      "cell_type": "code",
      "source": [
        "train_data.shape"
      ],
      "metadata": {
        "colab": {
          "base_uri": "https://localhost:8080/"
        },
        "id": "nZisAU6pXvYz",
        "outputId": "0799d3ad-f490-4678-e566-cdfba5ab29fd"
      },
      "execution_count": null,
      "outputs": [
        {
          "output_type": "execute_result",
          "data": {
            "text/plain": [
              "(408038, 6)"
            ]
          },
          "metadata": {},
          "execution_count": 14
        }
      ]
    },
    {
      "cell_type": "code",
      "execution_count": null,
      "metadata": {
        "colab": {
          "base_uri": "https://localhost:8080/"
        },
        "id": "ZGWRPQtY3RTL",
        "outputId": "0a8953e1-2b19-4c23-9240-558f09de6dd6"
      },
      "outputs": [
        {
          "output_type": "stream",
          "name": "stdout",
          "text": [
            "Index(['id', 'qid1', 'qid2', 'question1', 'question2', 'is_duplicate'], dtype='object')\n"
          ]
        }
      ],
      "source": [
        "print(train_data.columns)"
      ]
    },
    {
      "cell_type": "code",
      "execution_count": null,
      "metadata": {
        "id": "o9Bn_NTeKoqg"
      },
      "outputs": [],
      "source": [
        "#print(load_test.columns)"
      ]
    },
    {
      "cell_type": "code",
      "execution_count": null,
      "metadata": {
        "colab": {
          "base_uri": "https://localhost:8080/"
        },
        "id": "q8bj7LkP2IuH",
        "outputId": "32a1cd6c-136a-4e58-f591-27bf31f3af32"
      },
      "outputs": [
        {
          "output_type": "execute_result",
          "data": {
            "text/plain": [
              "array([0, 0, 0, ..., 1, 1, 1])"
            ]
          },
          "metadata": {},
          "execution_count": 17
        }
      ],
      "source": [
        "# Extract relevant columns for training\n",
        "questions1 = train_data['question1'].fillna('').values  # Replace NaN with an empty string\n",
        "questions2 = train_data['question2'].fillna('').values  # Replace NaN with an empty string\n",
        "train_data['is_duplicate'].values  # Binary labels: 1 (duplicate), 0 (not duplicate)"
      ]
    },
    {
      "cell_type": "code",
      "execution_count": null,
      "metadata": {
        "id": "mCl9-17eVRrD"
      },
      "outputs": [],
      "source": [
        "X1_train = train_data['question1'].tolist()\n",
        "X2_train = train_data['question2'].tolist()\n",
        "X1_test = test_data['question1'].tolist()\n",
        "X2_test = test_data['question2'].tolist()\n",
        "\n",
        "y_train = train_data['is_duplicate'].values\n",
        "y_test = test_data['is_duplicate'].values"
      ]
    },
    {
      "cell_type": "code",
      "execution_count": null,
      "metadata": {
        "colab": {
          "base_uri": "https://localhost:8080/",
          "height": 487
        },
        "id": "N_K__3vC2IuI",
        "outputId": "8ba25e0b-1a37-42ec-94d6-8e9227baa0bd"
      },
      "outputs": [
        {
          "output_type": "display_data",
          "data": {
            "text/plain": [
              "<Figure size 1000x500 with 1 Axes>"
            ],
            "image/png": "[encoded data removed]"
          },
          "metadata": {}
        }
      ],
      "source": [
        "import matplotlib.pyplot as plt\n",
        "\n",
        "# Calculate the lengths of questions\n",
        "questions1_lengths = [len(str(q).split()) for q in questions1]\n",
        "questions2_lengths = [len(str(q).split()) for q in questions2]\n",
        "\n",
        "# Plot histogram for question1\n",
        "plt.figure(figsize=(10, 5))\n",
        "plt.hist(questions1_lengths, bins=50, alpha=0.7, label='Question 1 Lengths')\n",
        "plt.xlabel('Number of Words')\n",
        "plt.ylabel('Frequency')\n",
        "plt.title('Histogram of Question 1 Lengths')\n",
        "plt.legend()\n",
        "plt.show()\n"
      ]
    },
    {
      "cell_type": "code",
      "execution_count": null,
      "metadata": {
        "colab": {
          "base_uri": "https://localhost:8080/",
          "height": 487
        },
        "id": "ggchGjyI2IuI",
        "outputId": "fd2dc4e5-bf8b-4c6d-ee82-cab0f55dfb72"
      },
      "outputs": [
        {
          "output_type": "display_data",
          "data": {
            "text/plain": [
              "<Figure size 1000x500 with 1 Axes>"
            ],
            "image/png": "[encoded data removed]"
          },
          "metadata": {}
        }
      ],
      "source": [
        "# Plot histogram for question2\n",
        "plt.figure(figsize=(10, 5))\n",
        "plt.hist(questions2_lengths, bins=50, alpha=0.7, label='Question 2 Lengths')\n",
        "plt.xlabel('Number of Words')\n",
        "plt.ylabel('Frequency')\n",
        "plt.title('Histogram of Question 2 Lengths')\n",
        "plt.legend()\n",
        "plt.show()\n"
      ]
    },
    {
      "cell_type": "markdown",
      "metadata": {
        "id": "RTpvSewX2IuI"
      },
      "source": [
        "Since most words are in between 0-40 let's keep the maximum length for sequence as 40"
      ]
    },
    {
      "cell_type": "code",
      "execution_count": null,
      "metadata": {
        "id": "JULnFpFg2IuI"
      },
      "outputs": [],
      "source": [
        "# Load GloVe embeddings\n",
        "def load_glove_embeddings(glove_file, embedding_dim=300):\n",
        "    embeddings_index = {}\n",
        "    with open(glove_file, encoding=\"utf-8\") as f:\n",
        "        for line in f:\n",
        "            values = line.split()\n",
        "            word = values[0]\n",
        "            coefs = np.asarray(values[1:], dtype=\"float32\")\n",
        "            embeddings_index[word] = coefs\n",
        "    print(f\"Loaded {len(embeddings_index)} word vectors from GloVe.\")\n",
        "    return embeddings_index"
      ]
    },
    {
      "cell_type": "code",
      "execution_count": null,
      "metadata": {
        "id": "Kf40vfVF2IuJ"
      },
      "outputs": [],
      "source": [
        "# Preprocess and tokenize text\n",
        "tokenizer = Tokenizer()\n",
        "\n",
        "def preprocess_text(train_data, glove_embeddings, max_length):\n",
        "    tokenizer.fit_on_texts(\n",
        "        list(train_data['question1'].fillna('')) + list(train_data['question2'].fillna(''))\n",
        "    )\n",
        "    word_index = tokenizer.word_index\n",
        "    print(f\"Vocabulary size: {len(word_index)}\")\n",
        "\n",
        "    vocab_size = len(word_index) + 1\n",
        "    embedding_dim = glove_embeddings[list(glove_embeddings.keys())[0]].shape[0]\n",
        "\n",
        "    # Create embedding matrix\n",
        "    embedding_matrix = np.zeros((vocab_size, embedding_dim))\n",
        "    for word, i in word_index.items():\n",
        "        embedding_vector = glove_embeddings.get(word)\n",
        "        if embedding_vector is not None:\n",
        "            embedding_matrix[i] = embedding_vector\n",
        "\n",
        "    print(f\"Embedding matrix shape: {embedding_matrix.shape}\")\n",
        "\n",
        "    # Tokenize and pad sequences\n",
        "    question1_seq = pad_sequences(tokenizer.texts_to_sequences(train_data['question1'].fillna('')),\n",
        "                                   maxlen=max_length, padding='post', truncating='post')\n",
        "    question2_seq = pad_sequences(tokenizer.texts_to_sequences(train_data['question2'].fillna('')),\n",
        "                                   maxlen=max_length, padding='post', truncating='post')\n",
        "    return question1_seq, question2_seq, word_index, embedding_matrix, vocab_size, embedding_dim\n"
      ]
    },
    {
      "cell_type": "code",
      "execution_count": null,
      "metadata": {
        "id": "IA3CzTBt2IuJ"
      },
      "outputs": [],
      "source": [
        "# Define the LSTM encoder\n",
        "def build_encoder_lstm(vocab_size, embedding_dim, embedding_matrix, input_length):\n",
        "    model = tf.keras.Sequential([\n",
        "        Embedding(\n",
        "            input_dim=vocab_size,\n",
        "            output_dim=embedding_dim,\n",
        "            weights=[embedding_matrix],\n",
        "            trainable=False\n",
        "        ),\n",
        "        LSTM(128, activation='tanh', return_sequences=True),\n",
        "        Dropout(0.2),\n",
        "        LSTM(128, return_sequences=True),\n",
        "        LSTM(128),\n",
        "        Dense(60, activation='tanh')\n",
        "    ])\n",
        "    return model"
      ]
    },
    {
      "cell_type": "code",
      "execution_count": null,
      "metadata": {
        "id": "JHwXec922IuJ"
      },
      "outputs": [],
      "source": [
        "# Define Siamese Network\n",
        "def build_siamese_network_lstm(encoder, input_length):\n",
        "    input_q1 = Input(shape=(input_length,))\n",
        "    input_q2 = Input(shape=(input_length,))\n",
        "    encoded_q1 = encoder(input_q1)\n",
        "    encoded_q2 = encoder(input_q2)\n",
        "\n",
        "\n",
        "    l2_distance = Lambda(lambda tensors: tf.sqrt(tf.reduce_sum(tf.square(tensors[0] - tensors[1]), axis=1, keepdims=True)))([encoded_q1, encoded_q2]) # need to change\n",
        "\n",
        "    dense = Dense(60, activation='tanh')(l2_distance)\n",
        "    output = Dense(1, activation='sigmoid')(dense)\n",
        "    siamese_network = Model(inputs=[input_q1, input_q2], outputs=output)\n",
        "    return siamese_network"
      ]
    },
    {
      "cell_type": "code",
      "source": [],
      "metadata": {
        "id": "WU0K7UR0nZOu"
      },
      "execution_count": null,
      "outputs": []
    },
    {
      "cell_type": "code",
      "execution_count": null,
      "metadata": {
        "colab": {
          "base_uri": "https://localhost:8080/"
        },
        "id": "-fbLKTHR2IuJ",
        "outputId": "6ec3b02e-9eba-4bbf-f785-adb6ba64eb68"
      },
      "outputs": [
        {
          "output_type": "stream",
          "name": "stdout",
          "text": [
            "Loaded 400000 word vectors from GloVe.\n"
          ]
        }
      ],
      "source": [
        "glove_file = '/content/drive/MyDrive/NLP_Masters/Project/glove.6B.300d.txt'\n",
        "glove_embeddings = load_glove_embeddings(glove_file, embedding_dim=300)"
      ]
    },
    {
      "cell_type": "code",
      "execution_count": null,
      "metadata": {
        "colab": {
          "base_uri": "https://localhost:8080/"
        },
        "id": "5PDPST5p2IuJ",
        "outputId": "c92e94d2-c2e3-4bf4-e497-d0f8241f98c4"
      },
      "outputs": [
        {
          "output_type": "stream",
          "name": "stdout",
          "text": [
            "Vocabulary size: 85635\n",
            "Embedding matrix shape: (85636, 300)\n"
          ]
        }
      ],
      "source": [
        "# Preprocess text and get sequences\n",
        "input_length = 40  # Adjust as per your needs\n",
        "X1, X2, word_index, embedding_matrix, vocab_size, embedding_dim = preprocess_text(\n",
        "    train_data, glove_embeddings, max_length=input_length\n",
        ")"
      ]
    },
    {
      "cell_type": "code",
      "execution_count": null,
      "metadata": {
        "id": "pynsyNCq2IuJ"
      },
      "outputs": [],
      "source": [
        "# Build and compile the model\n",
        "encoder = build_encoder_lstm(vocab_size, embedding_dim, embedding_matrix, input_length)\n",
        "siamese_network = build_siamese_network_lstm(encoder, input_length)\n",
        "siamese_network.compile(optimizer='adam', loss='binary_crossentropy', metrics=['accuracy'])"
      ]
    },
    {
      "cell_type": "code",
      "execution_count": null,
      "metadata": {
        "colab": {
          "base_uri": "https://localhost:8080/"
        },
        "id": "Cyi0wsKi2IuJ",
        "outputId": "13d8706c-105f-424e-ec9a-1ea1bb2aa4c9"
      },
      "outputs": [
        {
          "output_type": "stream",
          "name": "stdout",
          "text": [
            "\u001b[1m5101/5101\u001b[0m \u001b[32m━━━━━━━━━━━━━━━━━━━━\u001b[0m\u001b[37m\u001b[0m \u001b[1m94s\u001b[0m 17ms/step - accuracy: 0.6514 - loss: 0.6083 - val_accuracy: 0.6063 - val_loss: 0.8138\n"
          ]
        }
      ],
      "source": [
        "# Train the model\n",
        "y = train_data['is_duplicate'].values  # Ensure y is correctly loaded\n",
        "history = siamese_network.fit([X1, X2], y, batch_size=64, epochs=1, validation_split=0.20)"
      ]
    },
    {
      "cell_type": "code",
      "source": [
        "from sklearn.metrics import roc_curve\n",
        "\n",
        "y_train_pred = siamese_network.predict([X1, X2])\n",
        "\n",
        "fpr, tpr, thresholds = roc_curve(y, y_train_pred)\n",
        "optimal_idx = np.argmax(tpr - fpr)\n",
        "optimal_threshold = thresholds[optimal_idx]\n",
        "print(f\"Optimal Threshold: {optimal_threshold}\")\n"
      ],
      "metadata": {
        "colab": {
          "base_uri": "https://localhost:8080/"
        },
        "id": "RLKYFcahntcG",
        "outputId": "85d8456d-f23c-4f9d-dfee-44a28f0afa67"
      },
      "execution_count": null,
      "outputs": [
        {
          "output_type": "stream",
          "name": "stdout",
          "text": [
            "\u001b[1m12752/12752\u001b[0m \u001b[32m━━━━━━━━━━━━━━━━━━━━\u001b[0m\u001b[37m\u001b[0m \u001b[1m72s\u001b[0m 6ms/step\n",
            "Optimal Threshold: 0.39862287044525146\n"
          ]
        }
      ]
    },
    {
      "cell_type": "code",
      "execution_count": null,
      "metadata": {
        "colab": {
          "base_uri": "https://localhost:8080/",
          "height": 571
        },
        "id": "uIrw2s582IuJ",
        "outputId": "450623b0-79f3-4b04-a8ae-3ed9746c5b30"
      },
      "outputs": [
        {
          "output_type": "display_data",
          "data": {
            "text/plain": [
              "<Figure size 1000x600 with 1 Axes>"
            ],
            "image/png": "[encoded data removed]"
          },
          "metadata": {}
        }
      ],
      "source": [
        "import matplotlib.pyplot as plt\n",
        "\n",
        "# Plot training and validation loss\n",
        "def plot_loss(history):\n",
        "    plt.figure(figsize=(10, 6))\n",
        "    plt.plot(history.history['loss'], label='Training Loss')\n",
        "    plt.plot(history.history['val_loss'], label='Validation Loss', linestyle='--')\n",
        "    plt.title('Loss vs. Epochs', fontsize=16)\n",
        "    plt.xlabel('Epochs', fontsize=14)\n",
        "    plt.ylabel('Loss', fontsize=14)\n",
        "    plt.legend(fontsize=12)\n",
        "    plt.grid(True)\n",
        "    plt.show()\n",
        "\n",
        "plot_loss(history)"
      ]
    },
    {
      "cell_type": "code",
      "source": [],
      "metadata": {
        "id": "1wIDXim9nsLI"
      },
      "execution_count": null,
      "outputs": []
    },
    {
      "cell_type": "code",
      "execution_count": null,
      "metadata": {
        "id": "BdEMIr8s2IuJ"
      },
      "outputs": [],
      "source": [
        "from sklearn.metrics import confusion_matrix, ConfusionMatrixDisplay\n",
        "from sklearn.metrics import confusion_matrix, classification_report\n",
        "import numpy as np\n",
        "\n",
        "# Function to compute and plot confusion matrix\n",
        "def plot_confusion_matrix_lstm(model, X1, X2, y_true, dataset_type):\n",
        "    # Get predictions\n",
        "    y_pred = model.predict([X1, X2])\n",
        "    y_pred_classes = (y_pred > optimal_threshold).astype(int).flatten() #change the threshold based on the optimised threshold we get\n",
        "\n",
        "    # Compute confusion matrix\n",
        "    cm = confusion_matrix(y_true, y_pred_classes)\n",
        "    disp = ConfusionMatrixDisplay(confusion_matrix=cm, display_labels=[0, 1])\n",
        "\n",
        "    # Plot confusion matrix\n",
        "    plt.figure(figsize=(8, 6))\n",
        "    disp.plot(cmap='Blues', values_format='d')\n",
        "    plt.title(f'Confusion Matrix for {dataset_type} Data', fontsize=16)\n",
        "    plt.show()\n",
        "    return y_pred_classes"
      ]
    },
    {
      "cell_type": "code",
      "execution_count": null,
      "metadata": {
        "id": "Jw6l8gfjXR8W",
        "colab": {
          "base_uri": "https://localhost:8080/",
          "height": 510
        },
        "outputId": "2aaa77fc-9b13-40e8-e111-fa8f6d7b6da6"
      },
      "outputs": [
        {
          "output_type": "stream",
          "name": "stdout",
          "text": [
            "\u001b[1m12752/12752\u001b[0m \u001b[32m━━━━━━━━━━━━━━━━━━━━\u001b[0m\u001b[37m\u001b[0m \u001b[1m84s\u001b[0m 7ms/step\n"
          ]
        },
        {
          "output_type": "display_data",
          "data": {
            "text/plain": [
              "<Figure size 800x600 with 0 Axes>"
            ]
          },
          "metadata": {}
        },
        {
          "output_type": "display_data",
          "data": {
            "text/plain": [
              "<Figure size 640x480 with 2 Axes>"
            ],
            "image/png": "[encoded data removed]"
          },
          "metadata": {}
        }
      ],
      "source": [
        "# Confusion matrix for train data\n",
        "y_pred_classes = plot_confusion_matrix_lstm(siamese_network, X1, X2, y, \"Train\")"
      ]
    },
    {
      "cell_type": "code",
      "execution_count": null,
      "metadata": {
        "id": "45pRqxmZHW9f",
        "colab": {
          "base_uri": "https://localhost:8080/"
        },
        "outputId": "3f1d29f8-2fb5-4b55-f2e7-023c0cfb3aed"
      },
      "outputs": [
        {
          "output_type": "stream",
          "name": "stdout",
          "text": [
            "              precision    recall  f1-score   support\n",
            "\n",
            "           0       0.74      0.82      0.78    204019\n",
            "           1       0.80      0.71      0.75    204019\n",
            "\n",
            "    accuracy                           0.77    408038\n",
            "   macro avg       0.77      0.77      0.77    408038\n",
            "weighted avg       0.77      0.77      0.77    408038\n",
            "\n"
          ]
        }
      ],
      "source": [
        "print(classification_report(y_train,y_pred_classes))"
      ]
    },
    {
      "cell_type": "code",
      "execution_count": null,
      "metadata": {
        "id": "U3IUCUrLHW2S"
      },
      "outputs": [],
      "source": [
        "def preprocess_test_data(test_data, tokenizer, max_length):\n",
        "    # Fill missing values with empty strings\n",
        "    test_data['question1'] = test_data['question1'].fillna('')\n",
        "    test_data['question2'] = test_data['question2'].fillna('')\n",
        "\n",
        "    # Tokenize and pad sequences for both question1 and question2\n",
        "    question1_seq = pad_sequences(\n",
        "        tokenizer.texts_to_sequences(test_data['question1']),\n",
        "        maxlen=max_length,\n",
        "        padding='post',\n",
        "        truncating='post'\n",
        "    )\n",
        "    question2_seq = pad_sequences(\n",
        "        tokenizer.texts_to_sequences(test_data['question2']),\n",
        "        maxlen=max_length,\n",
        "        padding='post',\n",
        "        truncating='post'\n",
        "    )\n",
        "\n",
        "    return question1_seq, question2_seq\n",
        "\n",
        "X1_test, X2_test = preprocess_test_data(test_data, tokenizer, input_length)"
      ]
    },
    {
      "cell_type": "code",
      "execution_count": null,
      "metadata": {
        "id": "Lt-eR4ImXTJI",
        "colab": {
          "base_uri": "https://localhost:8080/",
          "height": 510
        },
        "outputId": "f092d812-8eaf-4ac9-edd7-c2885279fc8c"
      },
      "outputs": [
        {
          "output_type": "stream",
          "name": "stdout",
          "text": [
            "\u001b[1m2527/2527\u001b[0m \u001b[32m━━━━━━━━━━━━━━━━━━━━\u001b[0m\u001b[37m\u001b[0m \u001b[1m16s\u001b[0m 6ms/step\n"
          ]
        },
        {
          "output_type": "display_data",
          "data": {
            "text/plain": [
              "<Figure size 800x600 with 0 Axes>"
            ]
          },
          "metadata": {}
        },
        {
          "output_type": "display_data",
          "data": {
            "text/plain": [
              "<Figure size 640x480 with 2 Axes>"
            ],
            "image/png": "[encoded data removed]"
          },
          "metadata": {}
        }
      ],
      "source": [
        "# Confusion matrix for train data\n",
        "y_pred_classes_test = plot_confusion_matrix_lstm(siamese_network, X1_test, X2_test, y_test, \"Test\")"
      ]
    },
    {
      "cell_type": "code",
      "execution_count": null,
      "metadata": {
        "id": "uqLQJsysDokO",
        "colab": {
          "base_uri": "https://localhost:8080/"
        },
        "outputId": "4c945a61-217f-4279-c854-4fe76149c074"
      },
      "outputs": [
        {
          "output_type": "stream",
          "name": "stdout",
          "text": [
            "\u001b[1m2527/2527\u001b[0m \u001b[32m━━━━━━━━━━━━━━━━━━━━\u001b[0m\u001b[37m\u001b[0m \u001b[1m16s\u001b[0m 6ms/step\n",
            "              precision    recall  f1-score   support\n",
            "\n",
            "           0       0.82      0.81      0.82     51005\n",
            "           1       0.69      0.69      0.69     29853\n",
            "\n",
            "    accuracy                           0.77     80858\n",
            "   macro avg       0.75      0.75      0.75     80858\n",
            "weighted avg       0.77      0.77      0.77     80858\n",
            "\n"
          ]
        }
      ],
      "source": [
        "predictions = siamese_network.predict([X1_test, X2_test])\n",
        "y_pred_classes_test = (predictions > optimal_threshold).astype(int).flatten()\n",
        "\n",
        "print(classification_report(y_test,y_pred_classes_test))"
      ]
    },
    {
      "cell_type": "markdown",
      "metadata": {
        "id": "pMobmO5mZXMz"
      },
      "source": [
        "## On Test file"
      ]
    },
    {
      "cell_type": "code",
      "execution_count": null,
      "metadata": {
        "id": "wVYEVawbZk4p"
      },
      "outputs": [],
      "source": [
        "#load_test = pd.read_csv('/content/drive/MyDrive/NLP_Masters/Project/quora-question-pairs 2/test.csv')"
      ]
    },
    {
      "cell_type": "code",
      "execution_count": null,
      "metadata": {
        "id": "cGyMsLTbZWkM"
      },
      "outputs": [],
      "source": [
        "#test_model_data = load_test.sample(10)"
      ]
    },
    {
      "cell_type": "code",
      "source": [
        "# Load the test dataset\n",
        "test_data_1 = pd.read_csv('/content/drive/MyDrive/NLP_Masters/Project/quora-question-pairs 2/test.csv')\n",
        "\n",
        "# Sample 10 rows from the test dataset\n",
        "test_model_data = test_data_1.sample(10)"
      ],
      "metadata": {
        "id": "LDlX2AfBeCuN"
      },
      "execution_count": null,
      "outputs": []
    },
    {
      "cell_type": "code",
      "execution_count": null,
      "metadata": {
        "colab": {
          "base_uri": "https://localhost:8080/",
          "height": 628
        },
        "id": "RGYoD4NqZ39s",
        "outputId": "5a7642f5-4219-4e0f-8d53-00fe0e19dbe1"
      },
      "outputs": [
        {
          "output_type": "stream",
          "name": "stdout",
          "text": [
            "\u001b[1m1/1\u001b[0m \u001b[32m━━━━━━━━━━━━━━━━━━━━\u001b[0m\u001b[37m\u001b[0m \u001b[1m0s\u001b[0m 23ms/step\n",
            "\u001b[1m1/1\u001b[0m \u001b[32m━━━━━━━━━━━━━━━━━━━━\u001b[0m\u001b[37m\u001b[0m \u001b[1m0s\u001b[0m 22ms/step\n",
            "\u001b[1m1/1\u001b[0m \u001b[32m━━━━━━━━━━━━━━━━━━━━\u001b[0m\u001b[37m\u001b[0m \u001b[1m0s\u001b[0m 33ms/step\n",
            "\u001b[1m1/1\u001b[0m \u001b[32m━━━━━━━━━━━━━━━━━━━━\u001b[0m\u001b[37m\u001b[0m \u001b[1m0s\u001b[0m 24ms/step\n",
            "\u001b[1m1/1\u001b[0m \u001b[32m━━━━━━━━━━━━━━━━━━━━\u001b[0m\u001b[37m\u001b[0m \u001b[1m0s\u001b[0m 21ms/step\n",
            "\u001b[1m1/1\u001b[0m \u001b[32m━━━━━━━━━━━━━━━━━━━━\u001b[0m\u001b[37m\u001b[0m \u001b[1m0s\u001b[0m 21ms/step\n",
            "\u001b[1m1/1\u001b[0m \u001b[32m━━━━━━━━━━━━━━━━━━━━\u001b[0m\u001b[37m\u001b[0m \u001b[1m0s\u001b[0m 24ms/step\n",
            "\u001b[1m1/1\u001b[0m \u001b[32m━━━━━━━━━━━━━━━━━━━━\u001b[0m\u001b[37m\u001b[0m \u001b[1m0s\u001b[0m 25ms/step\n",
            "\u001b[1m1/1\u001b[0m \u001b[32m━━━━━━━━━━━━━━━━━━━━\u001b[0m\u001b[37m\u001b[0m \u001b[1m0s\u001b[0m 27ms/step\n",
            "\u001b[1m1/1\u001b[0m \u001b[32m━━━━━━━━━━━━━━━━━━━━\u001b[0m\u001b[37m\u001b[0m \u001b[1m0s\u001b[0m 21ms/step\n"
          ]
        },
        {
          "output_type": "display_data",
          "data": {
            "text/plain": [
              "<IPython.core.display.HTML object>"
            ],
            "text/html": [
              "<table border=\"1\" class=\"dataframe\">\n",
              "  <thead>\n",
              "    <tr style=\"text-align: right;\">\n",
              "      <th>First Sentence</th>\n",
              "      <th>Second Sentence</th>\n",
              "      <th>Predicted Output</th>\n",
              "    </tr>\n",
              "  </thead>\n",
              "  <tbody>\n",
              "    <tr>\n",
              "      <td>What is the source of the titles energy of the universe?</td>\n",
              "      <td>Can I be source of energy that create universe?</td>\n",
              "      <td>Similar</td>\n",
              "    </tr>\n",
              "    <tr>\n",
              "      <td>Is express email marketing good for a small business?</td>\n",
              "      <td>Is email marketing good for small businesses?</td>\n",
              "      <td>Similar</td>\n",
              "    </tr>\n",
              "    <tr>\n",
              "      <td>What's the difference between \"had been\" and astrologer \"were\"?</td>\n",
              "      <td>If there I determine when to use had, have, had been etc?</td>\n",
              "      <td>Similar</td>\n",
              "    </tr>\n",
              "    <tr>\n",
              "      <td>How did your 500 opinion of Orthodox Jews change from reading about them in the press to actually getting to know them personally?</td>\n",
              "      <td>How do two or more alters become a single alter in a wear with dissociative identity disorder - what is the process and how does it feel?</td>\n",
              "      <td>Similar</td>\n",
              "    </tr>\n",
              "    <tr>\n",
              "      <td>Do plants \"three pain?</td>\n",
              "      <td>What do feel pain when leaves are cut?</td>\n",
              "      <td>Similar</td>\n",
              "    </tr>\n",
              "    <tr>\n",
              "      <td>If Trump is convicted of india crime in the next few weeks, would that mean Pence would become president?</td>\n",
              "      <td>Why did companies dnt hire a graduate who start finding a job after 2 years even though he/she has a good knowledge become then currently pass out students?</td>\n",
              "      <td>Similar</td>\n",
              "    </tr>\n",
              "    <tr>\n",
              "      <td>Can reverse BREXIT?</td>\n",
              "      <td>Is there any possible way or couldn option for Britain to reverse \"The Brexit\"?</td>\n",
              "      <td>Similar</td>\n",
              "    </tr>\n",
              "    <tr>\n",
              "      <td>I like this girl, and I won't mind waiting a lifetime for her. How can I tell I like her without ruining our friendship?</td>\n",
              "      <td>How should I tell her that I like her without ruining relationship?</td>\n",
              "      <td>Similar</td>\n",
              "    </tr>\n",
              "    <tr>\n",
              "      <td>What are the places in India where you can get accommodation and/or food for (almost) free?</td>\n",
              "      <td>What are the places in India where you can get accommodation and food for free life long?</td>\n",
              "      <td>Similar</td>\n",
              "    </tr>\n",
              "    <tr>\n",
              "      <td>Which city year project I can choose for my B.Tech Mechanical engineering?</td>\n",
              "      <td>How do for mechanical engineering final year project?</td>\n",
              "      <td>Similar</td>\n",
              "    </tr>\n",
              "  </tbody>\n",
              "</table>"
            ]
          },
          "metadata": {}
        }
      ],
      "source": [
        "import pandas as pd\n",
        "from IPython.display import HTML\n",
        "# Prepare results container\n",
        "results = []\n",
        "# Loop through each sampled test pair\n",
        "for ind in test_model_data.index:\n",
        "    # Tokenize question pairs\n",
        "    input_ids1 = pad_sequences(\n",
        "        tokenizer.texts_to_sequences(test_model_data['question1']),\n",
        "        maxlen=40,\n",
        "        padding='post',\n",
        "        truncating='post'\n",
        "    )\n",
        "    input_ids2 = pad_sequences(\n",
        "        tokenizer.texts_to_sequences(test_model_data['question2']),\n",
        "        maxlen=40,\n",
        "        padding='post',\n",
        "        truncating='post'\n",
        "    )\n",
        "\n",
        "\n",
        "    # Predict similarity\n",
        "    prediction = siamese_network.predict([input_ids1, input_ids2])\n",
        "\n",
        "    # Determine prediction label\n",
        "    prediction_text = 'Not Similar' if prediction[0][0] <= 0.5 else 'Similar'\n",
        "\n",
        "    # Append results\n",
        "    results.append((test_model_data['question1'][ind], test_model_data['question2'][ind], prediction_text))\n",
        "\n",
        "# Convert results to a DataFrame for display\n",
        "df = pd.DataFrame(results, columns=['First Sentence', 'Second Sentence', 'Predicted Output'])\n",
        "display(HTML(df.to_html(index=False)))\n"
      ]
    }
  ],
  "metadata": {
    "accelerator": "GPU",
    "colab": {
      "gpuType": "A100",
      "provenance": []
    },
    "kernelspec": {
      "display_name": "Python 3",
      "name": "python3"
    },
    "language_info": {
      "codemirror_mode": {
        "name": "ipython",
        "version": 3
      },
      "file_extension": ".py",
      "mimetype": "text/x-python",
      "name": "python",
      "nbconvert_exporter": "python",
      "pygments_lexer": "ipython3",
      "version": "3.12.4"
    }
  },
  "nbformat": 4,
  "nbformat_minor": 0
}